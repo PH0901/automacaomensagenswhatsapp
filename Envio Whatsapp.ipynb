{
 "cells": [
  {
   "cell_type": "markdown",
   "id": "f2ec8ffa",
   "metadata": {},
   "source": [
    "### Cuidados!\n",
    " \n",
    "1. Whatsapp não gosta de nenhum tipo de automação, se mandar para muitas pessoas pode ser bloqueio.\n",
    "2. Isso pode dar merda\n",
    "3. Isso não é o uso da API oficial do Whatsapp, o próprio whatsapp tem uma API oficial. Se o seu objetivo é fazer envio em massa ou criar aqueles robozinhos que respondem automaticamente no whatsapp, então use a API oficial\n",
    "4. Meu objetivo é 100% educacional\n",
    "\n",
    "### Dito isso, bora automatizar o envio de mensagens no Whatsapp\n",
    "\n",
    "- Vamos usar o Selenium (vídeo da configuração na descrição)\n",
    "- Temos 1 alternativa muito boa:\n",
    "- Usar o https://web.whatsapp.com/send?phone=numero&text=texto (mais fácil, mais seguro, mas mais demorado)\n"
   ]
  },
  {
   "cell_type": "code",
   "execution_count": 8,
   "id": "dab5ab81",
   "metadata": {
    "scrolled": true
   },
   "outputs": [],
   "source": [
    "from selenium import webdriver\n",
    "from selenium.webdriver.chrome.service import Service\n",
    "from webdriver_manager.chrome import ChromeDriverManager\n",
    "from selenium.webdriver.common.by import By\n",
    "import time\n",
    "\n",
    "servico = Service(ChromeDriverManager().install())\n",
    "options = webdriver.ChromeOptions()\n",
    "options.add_argument(r'user-data-dir=C:\\Users\\Pichau\\AppData\\Local\\Google\\Chrome\\User Data\\Profile Selenium')\n",
    "navegador = webdriver.Chrome(service=servico, options = options)\n",
    "\n",
    "navegador.get(\"https://web.whatsapp.com\")\n",
    "\n",
    "# esperar a tela do whatsapp carregar\n",
    "while len(navegador.find_elements(By.ID, 'side')) < 1: # -> lista for vazia -> que o elemento não existe ainda\n",
    "    time.sleep(1)\n",
    "time.sleep(2) # só uma garantia"
   ]
  },
  {
   "cell_type": "code",
   "execution_count": 7,
   "id": "6ce010db",
   "metadata": {
    "scrolled": false
   },
   "outputs": [
    {
     "data": {
      "text/html": [
       "<div>\n",
       "<style scoped>\n",
       "    .dataframe tbody tr th:only-of-type {\n",
       "        vertical-align: middle;\n",
       "    }\n",
       "\n",
       "    .dataframe tbody tr th {\n",
       "        vertical-align: top;\n",
       "    }\n",
       "\n",
       "    .dataframe thead th {\n",
       "        text-align: right;\n",
       "    }\n",
       "</style>\n",
       "<table border=\"1\" class=\"dataframe\">\n",
       "  <thead>\n",
       "    <tr style=\"text-align: right;\">\n",
       "      <th></th>\n",
       "      <th>nome</th>\n",
       "      <th>mensagem</th>\n",
       "      <th>arquivo</th>\n",
       "      <th>telefone</th>\n",
       "    </tr>\n",
       "  </thead>\n",
       "  <tbody>\n",
       "    <tr>\n",
       "      <th>0</th>\n",
       "      <td>Diego Hashtag</td>\n",
       "      <td>E aí, fulano, tudo certo?</td>\n",
       "      <td>N</td>\n",
       "      <td>NaN</td>\n",
       "    </tr>\n",
       "    <tr>\n",
       "      <th>1</th>\n",
       "      <td>Alon Hashtag</td>\n",
       "      <td>Coe fulano, bora surfar?</td>\n",
       "      <td>N</td>\n",
       "      <td>NaN</td>\n",
       "    </tr>\n",
       "    <tr>\n",
       "      <th>2</th>\n",
       "      <td>Lira Hashtag</td>\n",
       "      <td>Viajou, fulano. Olha isso:</td>\n",
       "      <td>pythonimpressionador.png</td>\n",
       "      <td>NaN</td>\n",
       "    </tr>\n",
       "  </tbody>\n",
       "</table>\n",
       "</div>"
      ],
      "text/plain": [
       "            nome                    mensagem                   arquivo  \\\n",
       "0  Diego Hashtag   E aí, fulano, tudo certo?                         N   \n",
       "1   Alon Hashtag    Coe fulano, bora surfar?                         N   \n",
       "2   Lira Hashtag  Viajou, fulano. Olha isso:  pythonimpressionador.png   \n",
       "\n",
       "   telefone  \n",
       "0       NaN  \n",
       "1       NaN  \n",
       "2       NaN  "
      ]
     },
     "metadata": {},
     "output_type": "display_data"
    }
   ],
   "source": [
    "# o whatsapp já carregou\n",
    "import pandas as pd\n",
    "\n",
    "tabela = pd.read_excel(\"Envios.xlsx\")\n",
    "display(tabela) # tem também uma coluna telefone dentro da tabela"
   ]
  },
  {
   "cell_type": "code",
   "execution_count": 6,
   "id": "a8f777d9",
   "metadata": {},
   "outputs": [
    {
     "ename": "KeyboardInterrupt",
     "evalue": "",
     "output_type": "error",
     "traceback": [
      "\u001b[1;31m---------------------------------------------------------------------------\u001b[0m",
      "\u001b[1;31mKeyboardInterrupt\u001b[0m                         Traceback (most recent call last)",
      "Cell \u001b[1;32mIn[6], line 23\u001b[0m\n\u001b[0;32m     21\u001b[0m \u001b[38;5;66;03m# esperar a tela do whatsapp carregar -> espera um elemento que só existe na tela já carregada aparecer\u001b[39;00m\n\u001b[0;32m     22\u001b[0m \u001b[38;5;28;01mwhile\u001b[39;00m \u001b[38;5;28mlen\u001b[39m(navegador\u001b[38;5;241m.\u001b[39mfind_elements(By\u001b[38;5;241m.\u001b[39mID, \u001b[38;5;124m'\u001b[39m\u001b[38;5;124mside\u001b[39m\u001b[38;5;124m'\u001b[39m)) \u001b[38;5;241m<\u001b[39m \u001b[38;5;241m1\u001b[39m: \u001b[38;5;66;03m# -> lista for vazia -> que o elemento não existe ainda\u001b[39;00m\n\u001b[1;32m---> 23\u001b[0m     \u001b[43mtime\u001b[49m\u001b[38;5;241;43m.\u001b[39;49m\u001b[43msleep\u001b[49m\u001b[43m(\u001b[49m\u001b[38;5;241;43m1\u001b[39;49m\u001b[43m)\u001b[49m\n\u001b[0;32m     24\u001b[0m time\u001b[38;5;241m.\u001b[39msleep(\u001b[38;5;241m2\u001b[39m) \u001b[38;5;66;03m# só uma garantia\u001b[39;00m\n\u001b[0;32m     26\u001b[0m \u001b[38;5;66;03m# você tem que verificar se o número é inválido\u001b[39;00m\n",
      "\u001b[1;31mKeyboardInterrupt\u001b[0m: "
     ]
    }
   ],
   "source": [
    "import urllib\n",
    "import time\n",
    "import os\n",
    "\n",
    "### Sempre preste atenção quando for fazer esse codigo é ficar de olho nos elementos, pois o whatsapp sempre muda os elementos do site\n",
    "\n",
    "for linha in tabela.index:\n",
    "    # enviar uma mensagem para a pessoa\n",
    "    nome = tabela.loc[linha, \"nome\"]\n",
    "    mensagem = tabela.loc[linha, \"mensagem\"]\n",
    "    arquivo = tabela.loc[linha, \"arquivo\"]\n",
    "    telefone = tabela.loc[linha, \"telefone\"]\n",
    "    \n",
    "    texto = mensagem.replace(\"fulano\", nome)\n",
    "    texto = urllib.parse.quote(texto)\n",
    "\n",
    "    # enviar a mensagem\n",
    "    link = f\"https://web.whatsapp.com/send?phone={telefone}&text={texto}\"\n",
    "    \n",
    "    navegador.get(link)\n",
    "    # esperar a tela do whatsapp carregar -> espera um elemento que só existe na tela já carregada aparecer\n",
    "    while len(navegador.find_elements(By.ID, 'side')) < 1: # -> lista for vazia -> que o elemento não existe ainda\n",
    "        time.sleep(1)\n",
    "    time.sleep(2) # só uma garantia\n",
    "    \n",
    "    # você tem que verificar se o número é inválido\n",
    "    if len(navegador.find_elements(By.XPATH, '//*[@id=\"app\"]/div/span[2]/div/span/div/div/div/div/div/div[1]')) < 1:\n",
    "        # enviar a mensagem\n",
    "        navegador.find_element(By.XPATH, '//*[@id=\"main\"]/footer/div[1]/div/span[2]/div/div[2]/div[2]/button/span').click()\n",
    "        \n",
    "        if arquivo != \"N\": #enviar arquivo \n",
    "            caminho_completo = os.path.abspath(f\"arquivos/{arquivo}\")\n",
    "            navegador.find_element(By.XPATH, \n",
    "                                   '//*[@id=\"main\"]/footer/div[1]/div/span[2]/div/div[1]/div[2]/div/div/span').click() #clicar no botao de anexo \n",
    "            navegador.find_element(By.XPATH, \n",
    "                                   '//*[@id=\"main\"]/footer/div[1]/div/span[2]/div/div[1]/div[2]/div/span/div/div/ul/li[4]/button/input').send_keys(caminho_completo) #preencher informação dentro do input('logo de documento')\n",
    "            time.sleep(2)\n",
    "            navegador.find_element(By.XPATH, \n",
    "                                   '//*[@id=\"app\"]/div/div/div[2]/div[2]/span/div/span/div/div/div[2]/div/div[2]/div[2]/div/div').click()\n",
    "            \n",
    "        time.sleep(5)"
   ]
  },
  {
   "cell_type": "code",
   "execution_count": null,
   "id": "a07ca0f2",
   "metadata": {},
   "outputs": [],
   "source": []
  }
 ],
 "metadata": {
  "kernelspec": {
   "display_name": "Python 3 (ipykernel)",
   "language": "python",
   "name": "python3"
  },
  "language_info": {
   "codemirror_mode": {
    "name": "ipython",
    "version": 3
   },
   "file_extension": ".py",
   "mimetype": "text/x-python",
   "name": "python",
   "nbconvert_exporter": "python",
   "pygments_lexer": "ipython3",
   "version": "3.11.5"
  }
 },
 "nbformat": 4,
 "nbformat_minor": 5
}
